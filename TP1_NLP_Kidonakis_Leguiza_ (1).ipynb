{
  "nbformat": 4,
  "nbformat_minor": 0,
  "metadata": {
    "colab": {
      "provenance": []
    },
    "kernelspec": {
      "name": "python3",
      "display_name": "Python 3"
    },
    "language_info": {
      "name": "python"
    }
  },
  "cells": [
    {
      "cell_type": "markdown",
      "source": [
        "##    Trabajo práctico Nro 1\n",
        "\n",
        "## **Procesamiento de Lenguaje Natural**\n",
        "\n",
        "## Integrantes:\n",
        "\n",
        "*   Kidonakis, Sol\n",
        "*   Leguiza, Claudia E\n",
        "\n",
        "\n",
        "\n",
        "###                  Año: 2024"
      ],
      "metadata": {
        "id": "d9bOJzyeh1AZ"
      }
    },
    {
      "cell_type": "code",
      "source": [
        "import requests\n",
        "import csv\n",
        "import pandas as pd\n",
        "import lxml\n"
      ],
      "metadata": {
        "id": "eap0qH0lnX6c"
      },
      "execution_count": 275,
      "outputs": []
    },
    {
      "cell_type": "code",
      "execution_count": 276,
      "metadata": {
        "id": "Fc99ULwfhuzq"
      },
      "outputs": [],
      "source": [
        "# Dirección de la página web\n",
        "url = \"https://ww3.lectulandia.com/\""
      ]
    },
    {
      "cell_type": "code",
      "source": [
        "# Ejecutar GET-Request\n",
        "response = requests.get(url)"
      ],
      "metadata": {
        "id": "3fBXlC2vnDbs"
      },
      "execution_count": 277,
      "outputs": []
    },
    {
      "cell_type": "code",
      "source": [
        "from bs4 import BeautifulSoup"
      ],
      "metadata": {
        "id": "pSYISyzCnv3i"
      },
      "execution_count": 278,
      "outputs": []
    },
    {
      "cell_type": "markdown",
      "source": [
        " Cargamos el texto y localizamos los datos que necesitamos para armar el archivo CSV"
      ],
      "metadata": {
        "id": "bKYRgcXn-Cmf"
      }
    },
    {
      "cell_type": "code",
      "source": [
        "html = BeautifulSoup(response.text, 'html.parser')"
      ],
      "metadata": {
        "collapsed": true,
        "id": "f23L15DWnJxD"
      },
      "execution_count": 279,
      "outputs": []
    },
    {
      "cell_type": "code",
      "source": [
        "genero_html = html.find_all(\"a\", class_ = \"term\")\n",
        "genero_html"
      ],
      "metadata": {
        "id": "vmpI0K0kyJMh",
        "colab": {
          "base_uri": "https://localhost:8080/"
        },
        "outputId": "21ea6483-fc72-487b-9593-0505b96bb3cb"
      },
      "execution_count": 280,
      "outputs": [
        {
          "output_type": "execute_result",
          "data": {
            "text/plain": [
              "[<a class=\"term\" href=\"/genero/arqueologia/\" target=\"_blank\">Arqueología</a>,\n",
              " <a class=\"term\" href=\"/genero/arquitectura/\" target=\"_blank\">Arquitectura</a>,\n",
              " <a class=\"term\" href=\"/genero/arte/\" target=\"_blank\">Arte</a>,\n",
              " <a class=\"term\" href=\"/genero/astrologia/\" target=\"_blank\">Astrología</a>,\n",
              " <a class=\"term\" href=\"/genero/astronomia/\" target=\"_blank\">Astronomía</a>,\n",
              " <a class=\"term\" href=\"/genero/autoayuda/\" target=\"_blank\">Autoayuda</a>,\n",
              " <a class=\"term\" href=\"/genero/autobiografico/\" target=\"_blank\">Autobiográfico</a>,\n",
              " <a class=\"term\" href=\"/genero/aventuras/\" target=\"_blank\">Aventuras</a>,\n",
              " <a class=\"term\" href=\"/genero/biografia/\" target=\"_blank\">Biografía</a>,\n",
              " <a class=\"term\" href=\"/genero/biologia/\" target=\"_blank\">Biología</a>,\n",
              " <a class=\"term\" href=\"/genero/belico/\" target=\"_blank\">Bélico</a>,\n",
              " <a class=\"term\" href=\"/genero/ciencia/\" target=\"_blank\">Ciencia</a>,\n",
              " <a class=\"term\" href=\"/genero/ciencia-ficcion/\" target=\"_blank\">Ciencia ficción</a>,\n",
              " <a class=\"term\" href=\"/genero/ciencias-exactas/\" target=\"_blank\">Ciencias exactas</a>,\n",
              " <a class=\"term\" href=\"/genero/ciencias-naturales/\" target=\"_blank\">Ciencias naturales</a>,\n",
              " <a class=\"term\" href=\"/genero/ciencias-sociales/\" target=\"_blank\">Ciencias sociales</a>,\n",
              " <a class=\"term\" href=\"/genero/cine/\" target=\"_blank\">Cine</a>,\n",
              " <a class=\"term\" href=\"/genero/cinematografia/\" target=\"_blank\">Cinematografía</a>,\n",
              " <a class=\"term\" href=\"/genero/clasico/\" target=\"_blank\">Clásico</a>,\n",
              " <a class=\"term\" href=\"/genero/comunicacion/\" target=\"_blank\">Comunicación</a>,\n",
              " <a class=\"term\" href=\"/genero/costumbrista/\" target=\"_blank\">Costumbrista</a>,\n",
              " <a class=\"term\" href=\"/genero/critica/\" target=\"_blank\">Crítica</a>,\n",
              " <a class=\"term\" href=\"/genero/critica-y-teoria-literaria/\" target=\"_blank\">Crítica y teoría literaria</a>,\n",
              " <a class=\"term\" href=\"/genero/cronica/\" target=\"_blank\">Crónica</a>,\n",
              " <a class=\"term\" href=\"/genero/cronicas/\" target=\"_blank\">Crónicas</a>,\n",
              " <a class=\"term\" href=\"/genero/cuentos/\" target=\"_blank\">Cuentos</a>,\n",
              " <a class=\"term\" href=\"/genero/cultura/\" target=\"_blank\">Cultura</a>,\n",
              " <a class=\"term\" href=\"/genero/comic/\" target=\"_blank\">Cómic</a>,\n",
              " <a class=\"term\" href=\"/genero/deporte/\" target=\"_blank\">Deporte</a>,\n",
              " <a class=\"term\" href=\"/genero/deportes/\" target=\"_blank\">Deportes</a>,\n",
              " <a class=\"term\" href=\"/genero/deportes-y-juegos/\" target=\"_blank\">Deportes y juegos</a>,\n",
              " <a class=\"term\" href=\"/genero/diccionarios-y-enciclopedias/\" target=\"_blank\">Diccionarios y enciclopedias</a>,\n",
              " <a class=\"term\" href=\"/genero/didactico/\" target=\"_blank\">Didáctico</a>,\n",
              " <a class=\"term\" href=\"/genero/distopia/\" target=\"_blank\">Distopía</a>,\n",
              " <a class=\"term\" href=\"/genero/divulgacion/\" target=\"_blank\">Divulgación</a>,\n",
              " <a class=\"term\" href=\"/genero/divulgacion-cientifica/\" target=\"_blank\">Divulgación científica</a>,\n",
              " <a class=\"term\" href=\"/genero/drama/\" target=\"_blank\">Drama</a>,\n",
              " <a class=\"term\" href=\"/genero/ecologia/\" target=\"_blank\">Ecología</a>,\n",
              " <a class=\"term\" href=\"/genero/economia/\" target=\"_blank\">Economía</a>,\n",
              " <a class=\"term\" href=\"/genero/educacion/\" target=\"_blank\">Educación</a>,\n",
              " <a class=\"term\" href=\"/genero/ensayo/\" target=\"_blank\">Ensayo</a>,\n",
              " <a class=\"term\" href=\"/genero/erotico/\" target=\"_blank\">Erótico</a>,\n",
              " <a class=\"term\" href=\"/genero/esoterismo/\" target=\"_blank\">Esoterismo</a>,\n",
              " <a class=\"term\" href=\"/genero/espectaculos/\" target=\"_blank\">Espectáculos</a>,\n",
              " <a class=\"term\" href=\"/genero/espionaje/\" target=\"_blank\">Espionaje</a>,\n",
              " <a class=\"term\" href=\"/genero/espiritualidad/\" target=\"_blank\">Espiritualidad</a>,\n",
              " <a class=\"term\" href=\"/genero/fantasia/\" target=\"_blank\">Fantasía</a>,\n",
              " <a class=\"term\" href=\"/genero/fantastico/\" target=\"_blank\">Fantástico</a>,\n",
              " <a class=\"term\" href=\"/genero/ficcion/\" target=\"_blank\">Ficción</a>,\n",
              " <a class=\"term\" href=\"/genero/filosofia/\" target=\"_blank\">Filosofía</a>,\n",
              " <a class=\"term\" href=\"/genero/filosofico/\" target=\"_blank\">Filosófico</a>,\n",
              " <a class=\"term\" href=\"/genero/fisica/\" target=\"_blank\">Física</a>,\n",
              " <a class=\"term\" href=\"/genero/gastronomia/\" target=\"_blank\">Gastronomía</a>,\n",
              " <a class=\"term\" href=\"/genero/geografia/\" target=\"_blank\">Geografía</a>,\n",
              " <a class=\"term\" href=\"/genero/guion/\" target=\"_blank\">Guion</a>,\n",
              " <a class=\"term\" href=\"/genero/historia/\" target=\"_blank\">Historia</a>,\n",
              " <a class=\"term\" href=\"/genero/historico/\" target=\"_blank\">Histórico</a>,\n",
              " <a class=\"term\" href=\"/genero/hogar/\" target=\"_blank\">Hogar</a>,\n",
              " <a class=\"term\" href=\"/genero/humor/\" target=\"_blank\">Humor</a>,\n",
              " <a class=\"term\" href=\"/genero/idiomas/\" target=\"_blank\">Idiomas</a>,\n",
              " <a class=\"term\" href=\"/genero/infantil/\" target=\"_blank\">Infantil</a>,\n",
              " <a class=\"term\" href=\"/genero/infantil-y-juvenil/\" target=\"_blank\">Infantil y juvenil</a>,\n",
              " <a class=\"term\" href=\"/genero/informatica/\" target=\"_blank\">Informática</a>,\n",
              " <a class=\"term\" href=\"/genero/interactivo/\" target=\"_blank\">Interactivo</a>,\n",
              " <a class=\"term\" href=\"/genero/intriga/\" target=\"_blank\">Intriga</a>,\n",
              " <a class=\"term\" href=\"/genero/juvenil/\" target=\"_blank\">Juvenil</a>,\n",
              " <a class=\"term\" href=\"/genero/magia/\" target=\"_blank\">Magia</a>,\n",
              " <a class=\"term\" href=\"/genero/manuales-y-cursos/\" target=\"_blank\">Manuales y cursos</a>,\n",
              " <a class=\"term\" href=\"/genero/matematicas/\" target=\"_blank\">Matemáticas</a>,\n",
              " <a class=\"term\" href=\"/genero/medicina/\" target=\"_blank\">Medicina</a>,\n",
              " <a class=\"term\" href=\"/genero/medieval/\" target=\"_blank\">Medieval</a>,\n",
              " <a class=\"term\" href=\"/genero/memorias/\" target=\"_blank\">Memorias</a>,\n",
              " <a class=\"term\" href=\"/genero/misterio/\" target=\"_blank\">Misterio</a>,\n",
              " <a class=\"term\" href=\"/genero/mitos/\" target=\"_blank\">Mitos</a>,\n",
              " <a class=\"term\" href=\"/genero/musica/\" target=\"_blank\">Música</a>,\n",
              " <a class=\"term\" href=\"/genero/nazis/\" target=\"_blank\">Nazis</a>,\n",
              " <a class=\"term\" href=\"/genero/negocios/\" target=\"_blank\">Negocios</a>,\n",
              " <a class=\"term\" href=\"/genero/no-ficcion/\" target=\"_blank\">No Ficción</a>,\n",
              " <a class=\"term\" href=\"/genero/novela/\" target=\"_blank\">Novela</a>,\n",
              " <a class=\"term\" href=\"/genero/novela-negra/\" target=\"_blank\">Novela Negra</a>,\n",
              " <a class=\"term\" href=\"/genero/novela-del-oeste/\" target=\"_blank\">Novela del Oeste</a>,\n",
              " <a class=\"term\" href=\"/genero/obras-completas/\" target=\"_blank\">Obras completas</a>,\n",
              " <a class=\"term\" href=\"/genero/otros/\" target=\"_blank\">Otros</a>,\n",
              " <a class=\"term\" href=\"/genero/padres-e-hijos/\" target=\"_blank\">Padres e hijos</a>,\n",
              " <a class=\"term\" href=\"/genero/periodismo/\" target=\"_blank\">Periodismo</a>,\n",
              " <a class=\"term\" href=\"/genero/pintura/\" target=\"_blank\">Pintura</a>,\n",
              " <a class=\"term\" href=\"/genero/poesia/\" target=\"_blank\">Poesía</a>,\n",
              " <a class=\"term\" href=\"/genero/policial/\" target=\"_blank\">Policial</a>,\n",
              " <a class=\"term\" href=\"/genero/policiaco/\" target=\"_blank\">Policíaco</a>,\n",
              " <a class=\"term\" href=\"/genero/politica/\" target=\"_blank\">Política</a>,\n",
              " <a class=\"term\" href=\"/genero/psicologia/\" target=\"_blank\">Psicología</a>,\n",
              " <a class=\"term\" href=\"/genero/psicologico/\" target=\"_blank\">Psicológico</a>,\n",
              " <a class=\"term\" href=\"/genero/publicaciones-periodicas/\" target=\"_blank\">Publicaciónes periódicas</a>,\n",
              " <a class=\"term\" href=\"/genero/quimica/\" target=\"_blank\">Química</a>,\n",
              " <a class=\"term\" href=\"/genero/realista/\" target=\"_blank\">Realista</a>,\n",
              " <a class=\"term\" href=\"/genero/recetas-de-cocina/\" target=\"_blank\">Recetas de cocina</a>,\n",
              " <a class=\"term\" href=\"/genero/recopilacion/\" target=\"_blank\">Recopilación</a>,\n",
              " <a class=\"term\" href=\"/genero/referencia/\" target=\"_blank\">Referencia</a>,\n",
              " <a class=\"term\" href=\"/genero/relato/\" target=\"_blank\">Relato</a>,\n",
              " <a class=\"term\" href=\"/genero/religion/\" target=\"_blank\">Religión</a>,\n",
              " <a class=\"term\" href=\"/genero/romantico/\" target=\"_blank\">Romántico</a>,\n",
              " <a class=\"term\" href=\"/genero/salud-y-bienestar/\" target=\"_blank\">Salud y Bienestar</a>,\n",
              " <a class=\"term\" href=\"/genero/sexualidad/\" target=\"_blank\">Sexualidad</a>,\n",
              " <a class=\"term\" href=\"/genero/sociologia/\" target=\"_blank\">Sociología</a>,\n",
              " <a class=\"term\" href=\"/genero/satira/\" target=\"_blank\">Sátira</a>,\n",
              " <a class=\"term\" href=\"/genero/teatro/\" target=\"_blank\">Teatro</a>,\n",
              " <a class=\"term\" href=\"/genero/tecnologia/\" target=\"_blank\">Tecnología</a>,\n",
              " <a class=\"term\" href=\"/genero/terror/\" target=\"_blank\">Terror</a>,\n",
              " <a class=\"term\" href=\"/genero/terrorismo/\" target=\"_blank\">Terrorismo</a>,\n",
              " <a class=\"term\" href=\"/genero/thriller/\" target=\"_blank\">Thriller</a>,\n",
              " <a class=\"term\" href=\"/genero/ucronia/\" target=\"_blank\">Ucronía</a>,\n",
              " <a class=\"term\" href=\"/genero/viajes/\" target=\"_blank\">Viajes</a>]"
            ]
          },
          "metadata": {},
          "execution_count": 280
        }
      ]
    },
    {
      "cell_type": "code",
      "source": [
        "resumen_html = html.find_all('div', class_=\"description\")\n",
        "resumen_html"
      ],
      "metadata": {
        "collapsed": true,
        "id": "i1fghmGxr8QQ",
        "colab": {
          "base_uri": "https://localhost:8080/"
        },
        "outputId": "57cd86f9-9fac-411b-96e5-67e0756db5f2"
      },
      "execution_count": 281,
      "outputs": [
        {
          "output_type": "execute_result",
          "data": {
            "text/plain": [
              "[<div class=\"description\">\n",
              " <p>A punto de salir de prisión, Nate McClusky comete un grave error y su familia y él son condenados a muerte. Así lo sentencia Craig el Loco, líder de la mafia blanca Acero Ario, desde la celda de máxima seguridad donde cumple cadena perpetua. Un decreto ineludible, pues todo nazi supremacista de California responde al […]</p>\n",
              " <span class=\"paragraph-end\"></span>\n",
              " </div>,\n",
              " <div class=\"description\">\n",
              " <p>El mundo ya no es un lugar seguro para Murtagh y su dragón, Thorn. Un malvado rey ha sido derrocado y deben afrontar las consecuencias del papel que ellos desempeñaron en su reinado de terror. Ahora son odiados y están solos, apartados de la sociedad.Por todos los territorios, voces apagadas susurran sobre tierra quebradiza y […]</p>\n",
              " <span class=\"paragraph-end\"></span>\n",
              " </div>,\n",
              " <div class=\"description\">\n",
              " <p>Maren Yearly quiere lo mismo que cualquier chica de su edad. Quiere convertirse en alguien a quien los demás admiren y respeten. Y quiere que la quieran. Pero Maren tiene un secreto que la hace diferente, impulsos que no puede controlar. Y se odia por las cosas malas que le ha empujado a hacer, por […]</p>\n",
              " <span class=\"paragraph-end\"></span>\n",
              " </div>,\n",
              " <div class=\"description\">\n",
              " <p>Esta es la historia de cuatro amigas.Cuatro mujeres de hoy, que se quieren, se hacen confidencias, discuten a veces, trabajan, sueñan y tratan de exprimir la vida al máximo.Laura, Alba, Li-Mei y Cristina se conocieron muy jóvenes y siempre han sido inseparables, aunque a veces el día a día ponga a prueba esa profunda amistad.Cuatro […]</p>\n",
              " <span class=\"paragraph-end\"></span>\n",
              " </div>,\n",
              " <div class=\"description\">\n",
              " <p>Poco después de que el comisario Adamsberg haya regresado a París tras cerrar un caso en Bretaña, la policía de Rennes le pide ayuda para resolver un crimen que parece guardar relación con una oscura leyenda local: el fantasma de un conde apodado «el Cojo», cuya pata de palo sigue resonando por los corredores del […]</p>\n",
              " <span class=\"paragraph-end\"></span>\n",
              " </div>,\n",
              " <div class=\"description\">\n",
              " <p>«Gestarescala» comienza un jueves de abril de 2046 en Cleveland, en la Republica Comunal de los Ciudadanos de América, una distopia totalitaria de corte comunista. El protagonista, Joe Fernwright, está desempleado y vive del subsidio. Antes era alfarero, como lo había sido su padre, en los tiempos en que un puchero de barro era algo […]</p>\n",
              " <span class=\"paragraph-end\"></span>\n",
              " </div>,\n",
              " <div class=\"description\">\n",
              " <p>«No he cruzado el océano para veros en brazos de él. Os recuperaré, amor mío, cueste lo que cueste. Aunque deba entregar hasta mi último aliento para ello».Escocia, 1623La tradición lo es todo para Ailean McFàrach, pero con ella no puede mantener las tierras y su castillo se desmorona. Para salvarlo, se marcha en busca […]</p>\n",
              " <span class=\"paragraph-end\"></span>\n",
              " </div>,\n",
              " <div class=\"description\">\n",
              " <p>Los últimos veinte años de vida, Samuel Clemens -conocido por su seudónimo Mark Twain- dictó desde su cama miles de palabras con la intención de decir la verdad acerca de su época y sus contemporáneos. Aunque concluyó que para él era imposible decir la verdad, entre 1906 y 1907 publicó esta selección de sus memorias […]</p>\n",
              " <span class=\"paragraph-end\"></span>\n",
              " </div>,\n",
              " <div class=\"description\">\n",
              " <p>La corrupción constituye un fenómeno insidioso, amplio, variado y global que comprende actividades tanto públicas como privadas. No se trata únicamente del tosco saqueo del patrimonio del Estado. La corruptela comprende el ofrecimiento y la recepción de sobornos; la malversación y mala asignación de fondos y gastos públicos; los escándalos financieros y políticos; el fraude […]</p>\n",
              " <span class=\"paragraph-end\"></span>\n",
              " </div>,\n",
              " <div class=\"description\">\n",
              " <p>Esta colección de fragmentos de poesía latina, que recupera obras parciales de entre los primeros testimonios y el siglo VI d. C., es una herramienta fundamental para la Filología Latina y una obra de referencia para cualquier interesado en la poesía y la literatura clásicas.El número de obras latinas que ha llegado hasta nuestros días es […]</p>\n",
              " <span class=\"paragraph-end\"></span>\n",
              " </div>,\n",
              " <div class=\"description\">\n",
              " <p>Estudio social y memorias históricas del bandolerismo en la España del siglo XIX. Julian de Zugasti fue gobernador civil de la provincia de Córdoba, entre 1870 y 1873 emprendió a cabo una importante lucha contra los bandoleros que actuaban en la zona. Creó una «Partida de Seguridad Pública» constituida por 100 efectivos y sujeta al […]</p>\n",
              " <span class=\"paragraph-end\"></span>\n",
              " </div>,\n",
              " <div class=\"description\">\n",
              " <p>El teniente Pat Abbott y su esposa Jean se hallan transitoriamente en Nueva Orleans, la pintoresca capital de Louisiana llena de reminiscencias de la época colonial. Superpoblado a la sazón el famoso Barrio Francés, Pat y Jean tienen que alojarse en la casa de una familia de abolengo criollo, cuyo apego a los rancios convencionalismos […]</p>\n",
              " <span class=\"paragraph-end\"></span>\n",
              " </div>,\n",
              " <div class=\"description\">\n",
              " <p>Ruby Bell tiene dos objetivos para este curso: trabajar duro para entrar en Oxford y pasar desapercibida para todos sus elitistas compañeros del Maxton Hall College, donde asiste como alumna gracias a una beca.Pero, un buen día, Ruby sorprende a uno de sus profesores en actitud cariñosa con una estudiante, Lydia Beaufort, una de las […]</p>\n",
              " <span class=\"paragraph-end\"></span>\n",
              " </div>,\n",
              " <div class=\"description\">\n",
              " <p>Todos parecían divertirse en aquel baile que reunía a lo más selecto de la sociedad londinense. Todos, excepto ellos dos. Daphne, una hermosa joven agobiada por su madre, y Simon, el huraño nuevo duque de Hastings, tenían el mismo problema: la continua presión para que encontraran pareja. Al conocerse, se les ocurrió el plan perfecto: […]</p>\n",
              " <span class=\"paragraph-end\"></span>\n",
              " </div>,\n",
              " <div class=\"description\">\n",
              " <p>A sus veintiocho años, Penélope se ha resignado ya a convertirse en una solterona destinada a envejecer cuidando a su madre. Durante una década, ha asistido a todas las fiestas de la aristocracia londinense, y siempre ha sido la muchacha mediocre, callada, la que nadie saca a bailar más que por compromiso, la que pasa […]</p>\n",
              " <span class=\"paragraph-end\"></span>\n",
              " </div>,\n",
              " <div class=\"description\">\n",
              " <p>Hábitos atómicos parte de una simple pero poderosa pregunta: ¿Cómo podemos vivir mejor? Sabemos que unos buenos hábitos nos permiten mejorar significativamente nuestra vida, pero con frecuencia nos desviamos del camino: dejamos de hacer ejercicio, comemos mal, dormimos poco, despilfarramos. ¿Por qué es tan fácil caer en los malos hábitos y tan complicado seguir los […]</p>\n",
              " <span class=\"paragraph-end\"></span>\n",
              " </div>,\n",
              " <div class=\"description\">\n",
              " <p>A veces, quien más te quiere es quién más daño te hace.Lily no siempre lo ha tenido fácil. Por eso, su idílica relación con un magnífico neurocirujano llamado Ryle Kincaid, parece demasiado buena para ser verdad. Cuando Atlas, su primer amor, reaparece repentinamente y Ryle comienza a mostrar su verdadera cara, todo lo que Lily […]</p>\n",
              " <span class=\"paragraph-end\"></span>\n",
              " </div>,\n",
              " <div class=\"description\">\n",
              " <p>Un ordenador militar (AM, tomado de I think, therefore I AM, en inglés pienso, luego existo) toma consciencia de sí mismo y decide acabar con la raza humana mediante un holocausto nuclear, rescatando únicamente a cinco personas.</p>\n",
              " <span class=\"paragraph-end\"></span>\n",
              " </div>,\n",
              " <div class=\"description\">\n",
              " <p>El día que conoció a Francesca Bridgerton, Michael probó por primera vez el dulce sabor del amor y el amargo gusto de la desesperación. Porque ella era la única de las muchas mujeres que había conocido que le inspiraba auténtica pasión, pero era también la mujer de su primo John, al que quería más que […]</p>\n",
              " <span class=\"paragraph-end\"></span>\n",
              " </div>,\n",
              " <div class=\"description\">\n",
              " <p>Este libro nos detalla la increíble historia de Neil Strauss, periodista de prestigio y hombre vulgar, que pasó de ser un desgarbado escritor a ser el genial e infalible Style, un tipo irresistible para las mujeres. Strauss se infiltró en un grupo que se autodefinen como maestros de la seducción, una comunidad de hombres que […]</p>\n",
              " <span class=\"paragraph-end\"></span>\n",
              " </div>,\n",
              " <div class=\"description\">\n",
              " <p>Las mujeres que aman demasiado es un clásico entre los libros de autoayuda. Robin Norwood escribió esta guía práctica para ayudar a las mujeres que sufren por su adicción a hombres que las maltratan, desprecian o tiranizan, enseñándoles a reconocer y cambiar su propia manera de amar. A través de historias reveladoras y de un […]</p>\n",
              " <span class=\"paragraph-end\"></span>\n",
              " </div>,\n",
              " <div class=\"description\">\n",
              " <p>Una guía diseñada para mostrarle al lector cuáles son las cualidades personales que se deben de tener para alcanzar el poder en términos sociológicos, un método práctico para todo aquel que quiera conseguir el poder, observe el poder, o tenga que defenderse del poder. La obra contiene temas y elementos de El príncipe de Nicolás […]</p>\n",
              " <span class=\"paragraph-end\"></span>\n",
              " </div>,\n",
              " <div class=\"description\">\n",
              " <p>En un mundo de controversias en el tema de la obesidad, El Poder del Metabolismo registra las técnicas y factores que ayudan a recuperar el metabolismo, basadas en EXPERIENCIA Y OBSERVACIONES de lo que ha funcionado en más de 13,000 personas. Las técnicas para bajar de peso de forma natural vienen descritas en este Best-Seller […]</p>\n",
              " <span class=\"paragraph-end\"></span>\n",
              " </div>,\n",
              " <div class=\"description\">\n",
              " <p>(Cuando el dolor se hace carne) Solo el que ama la vida, piensa en la muerte. “El Duelo es un territorio oscuro, misterioso, casi inaccesible. Una conmoción que nos sorprende, nos toma desprevenidos y cambia nuestro entorno en un instante. No importa lo preparados que creamos estar para enfrentar una pérdida, esa preparación jamás será […]</p>\n",
              " <span class=\"paragraph-end\"></span>\n",
              " </div>,\n",
              " <div class=\"description\">\n",
              " <p>Descubre los secretos para eliminar pensamientos y conductas negativas y desbloquear todo tu potencial para el éxito.Si te sientes abrumado o incapaz de escapar de tus pensamientos negativos, este libro te pondrá en el camino correcto. Ya sea que esta negatividad provenga de una relación pasada que terminó mal, un trauma infantil, un fracaso profesional […]</p>\n",
              " <span class=\"paragraph-end\"></span>\n",
              " </div>,\n",
              " <div class=\"description\">\n",
              " <p>Este libro ofrece la posibilidad única de acercarse al fenómeno editorial chino que ha conquistado el mundo y ha ganado el premio Hugo 2015 a la mejor novela, siendo la primera vez que una obra no escrita originariamente en inglés merece tal reconocimiento. Su autor, Cixin Liu, es el escritor de ciencia ficción más relevante […]</p>\n",
              " <span class=\"paragraph-end\"></span>\n",
              " </div>,\n",
              " <div class=\"description\">\n",
              " <p>Como en el cuento de Cenicienta, Sophie ve una noche cumplirse su sueño. A espaldas de su madrastra, se viste como una reina y acude al baile de disfraces más importante de Londres. Lo que es más, consigue captar la atención de Benedict Bridgerton, el soltero más atractivo y encantador de la reunión. Sin embargo, […]</p>\n",
              " <span class=\"paragraph-end\"></span>\n",
              " </div>,\n",
              " <div class=\"description\">\n",
              " <p>Una de las historias de amor más adictivas de Wattpad.Para Jenna Brown, su primer año en la Universidad suponía alejarse de su familia y sus amigos y enfrentarse al mundo por primera vez en su vida. Su novio le había dejado claras sus intenciones: a partir de ese momento, tenían una relación a distancia y […]</p>\n",
              " <span class=\"paragraph-end\"></span>\n",
              " </div>,\n",
              " <div class=\"description\">\n",
              " <p>Estamos en el año 2044 y, como el resto de la humanidad, Wade Watts prefiere mil veces el videojuego de OASIS al cada vez más sombrío mundo real. Se afirma que esconde las piezas de un rompecabezas diabólico cuya resolución conduce a una fortuna incalculable. Durante años, millones de humanos han intentado dar con ellas, […]</p>\n",
              " <span class=\"paragraph-end\"></span>\n",
              " </div>,\n",
              " <div class=\"description\">\n",
              " <p>¿Estabas en el tren de las 8.04? ¿Viste algo sospechoso? Rachel, sí. Rachel toma siempre el tren de las 8.04 h. Cada mañana lo mismo: el mismo paisaje, las mismas casas… y la misma parada en la señal roja. Son solo unos segundos, pero le permiten observar a una pareja desayunando tranquilamente en su terraza.Siente […]</p>\n",
              " <span class=\"paragraph-end\"></span>\n",
              " </div>,\n",
              " <div class=\"description\">\n",
              " <p>¿Quién o qué mutila y mata a los niños de un pequeño pueblo norteamericano? ¿Por qué llega cíclicamente el horror a Derry en forma de un payaso siniestro que va sembrando la destrucción a su paso? Esto es lo que se proponen averiguar los protagonistas de esta novela. Tras veintisiete años de tranquilidad y lejanía […]</p>\n",
              " <span class=\"paragraph-end\"></span>\n",
              " </div>,\n",
              " <div class=\"description\">\n",
              " <p>Tras la caída de la Unión Soviética en 1992, muchos sectores del mundo libre descansaron en ese triunfalismo que brindaba la sensación de que la utopía colectivista había perdido para siempre. Pero pocos años después, abrazando nuevas banderas y reinventando su discurso, el hoy llamado neocomunismo (o progresismo cultural) no sólo pasó a dominar la […]</p>\n",
              " <span class=\"paragraph-end\"></span>\n",
              " </div>,\n",
              " <div class=\"description\">\n",
              " <p>Robert Langdon, profesor de simbología e iconografía religiosa de la universidad de Harvard, acude al Museo Guggenheim Bilbao para asistir a un trascendental anuncio que «cambiará la faz de la ciencia para siempre». El anfitrión de la velada es Edmond Kirsch, un joven multimillonario cuyos visionarios inventos tecnológicos y audaces predicciones lo han convertido en […]</p>\n",
              " <span class=\"paragraph-end\"></span>\n",
              " </div>,\n",
              " <div class=\"description\">\n",
              " <p>El monstruo apareció justo después de la medianoche. Pero no era el que Conor había estado esperando, el de la pesadilla que ha estado soñando todas las noches desde que su madre comenzó con el tratamiento. El de la oscuridad y el viento y el grito… Ese monstruo del jardín es diferente. Antiguo, salvaje. Y […]</p>\n",
              " <span class=\"paragraph-end\"></span>\n",
              " </div>,\n",
              " <div class=\"description\">\n",
              " <p>Quién mató a Nola Kellergan es la gran incógnita a desvelar en este thriller incomparable cuya experiencia de lectura escapa a cualquier tentativa de descripción. Intentémoslo: una gran novela policiaca y romántica a tres tiempos −1975, 1998 y 2008− acerca del asesinato de una joven de quince años en la pequeña ciudad de Aurora, en […]</p>\n",
              " <span class=\"paragraph-end\"></span>\n",
              " </div>,\n",
              " <div class=\"description\">\n",
              " <p>He robado princesas a reyes agónicos. Incendié la ciudad de Trebon. He pasado la noche con Felurian y he despertado vivo y cuerdo. Me expulsaron de la Universidad a una edad a la que a la mayoría todavía no los dejan entrar. He recorrido de noche caminos de los que otros no se atreven a […]</p>\n",
              " <span class=\"paragraph-end\"></span>\n",
              " </div>]"
            ]
          },
          "metadata": {},
          "execution_count": 281
        }
      ]
    },
    {
      "cell_type": "code",
      "source": [
        "titulo_html = html.find_all('a', class_=\"title\")\n",
        "titulo_html"
      ],
      "metadata": {
        "id": "efFz1Ub2sT69",
        "colab": {
          "base_uri": "https://localhost:8080/"
        },
        "outputId": "e1b90b87-b434-4345-cd25-af7a2d7e553d"
      },
      "execution_count": 282,
      "outputs": [
        {
          "output_type": "execute_result",
          "data": {
            "text/plain": [
              "[<a class=\"title\" href=\"/book/la-educacion-de-polly-mcclusky/\" title=\"La educación de Polly McClusky\">\n",
              " La educación de Polly McClusky <span class=\"paragraph-end\"></span>\n",
              " </a>,\n",
              " <a class=\"title\" href=\"/book/murtagh/\" title=\"Murtagh\">\n",
              " Murtagh <span class=\"paragraph-end\"></span>\n",
              " </a>,\n",
              " <a class=\"title\" href=\"/book/bones-and-all-hasta-los-huesos/\" title=\"Bones and All: Hasta los huesos\">\n",
              " Bones and All: Hasta los huesos <span class=\"paragraph-end\"></span>\n",
              " </a>,\n",
              " <a class=\"title\" href=\"/book/amigas-imperfectas/\" title=\"Amigas imperfectas\">\n",
              " Amigas imperfectas <span class=\"paragraph-end\"></span>\n",
              " </a>,\n",
              " <a class=\"title\" href=\"/book/sobre-la-losa/\" title=\"Sobre la losa\">\n",
              " Sobre la losa <span class=\"paragraph-end\"></span>\n",
              " </a>,\n",
              " <a class=\"title\" href=\"/book/gestarescala-ed-catedra/\" title=\"Gestarescala (ed. Cátedra)\">\n",
              " Gestarescala (ed. Cátedra) <span class=\"paragraph-end\"></span>\n",
              " </a>,\n",
              " <a class=\"title\" href=\"/book/un-beso-en-las-almenas/\" title=\"Un beso en las almenas\">\n",
              " Un beso en las almenas <span class=\"paragraph-end\"></span>\n",
              " </a>,\n",
              " <a class=\"title\" href=\"/book/capitulos-de-mi-autobiografia/\" title=\"Capítulos de mi autobiografía\">\n",
              " Capítulos de mi autobiografía <span class=\"paragraph-end\"></span>\n",
              " </a>,\n",
              " <a class=\"title\" href=\"/book/historia-de-la-corrupcion-en-el-peru/\" title=\"Historia de la corrupción en el Perú\">\n",
              " Historia de la corrupción en el Perú <span class=\"paragraph-end\"></span>\n",
              " </a>,\n",
              " <a class=\"title\" href=\"/book/fragmentos-de-poesia-latina-epica-y-lirica-ii/\" title=\"Fragmentos de poesía latina épica y lírica II\">\n",
              " Fragmentos de poesía latina épica y lírica II <span class=\"paragraph-end\"></span>\n",
              " </a>,\n",
              " <a class=\"title\" href=\"/book/el-bandolerismo-estudio-social-y-memorias-historicas-origenes/\" title=\"El Bandolerismo, Estudio social y memorias históricas. Origenes.\">\n",
              " El Bandolerismo, Estudio social y memorias históricas. Origenes. <span class=\"paragraph-end\"></span>\n",
              " </a>,\n",
              " <a class=\"title\" href=\"/book/el-collar-indigo/\" title=\"El collar índigo\">\n",
              " El collar índigo <span class=\"paragraph-end\"></span>\n",
              " </a>,\n",
              " <a class=\"title\" href=\"/book/save-me/\" title=\"Save me\">\n",
              " Save me <span class=\"paragraph-end\"></span>\n",
              " </a>,\n",
              " <a class=\"title\" href=\"/book/el-duque-y-yo/\" title=\"El duque y yo\">\n",
              " El duque y yo <span class=\"paragraph-end\"></span>\n",
              " </a>,\n",
              " <a class=\"title\" href=\"/book/seduciendo-a-mr-bridgerton/\" title=\"Seduciendo a Mr. Bridgerton\">\n",
              " Seduciendo a Mr. Bridgerton <span class=\"paragraph-end\"></span>\n",
              " </a>,\n",
              " <a class=\"title\" href=\"/book/habitos-atomicos/\" title=\"Hábitos atómicos\">\n",
              " Hábitos atómicos <span class=\"paragraph-end\"></span>\n",
              " </a>,\n",
              " <a class=\"title\" href=\"/book/romper-el-circulo/\" title=\"Romper el círculo\">\n",
              " Romper el círculo <span class=\"paragraph-end\"></span>\n",
              " </a>,\n",
              " <a class=\"title\" href=\"/book/no-tengo-boca-y-debo-gritar/\" title=\"No tengo boca y debo gritar\">\n",
              " No tengo boca y debo gritar <span class=\"paragraph-end\"></span>\n",
              " </a>,\n",
              " <a class=\"title\" href=\"/book/el-corazon-de-una-bridgerton/\" title=\"El corazón de una Bridgerton\">\n",
              " El corazón de una Bridgerton <span class=\"paragraph-end\"></span>\n",
              " </a>,\n",
              " <a class=\"title\" href=\"/book/el-metodo-the-game/\" title=\"El método (The game)\">\n",
              " El método (The game) <span class=\"paragraph-end\"></span>\n",
              " </a>,\n",
              " <a class=\"title\" href=\"/book/las-mujeres-que-aman-demasiado/\" title=\"Las mujeres que aman demasiado\">\n",
              " Las mujeres que aman demasiado <span class=\"paragraph-end\"></span>\n",
              " </a>,\n",
              " <a class=\"title\" href=\"/book/las-48-leyes-del-poder/\" title=\"Las 48 leyes del poder\">\n",
              " Las 48 leyes del poder <span class=\"paragraph-end\"></span>\n",
              " </a>,\n",
              " <a class=\"title\" href=\"/book/el-poder-del-metabolismo/\" title=\"El poder del metabolismo\">\n",
              " El poder del metabolismo <span class=\"paragraph-end\"></span>\n",
              " </a>,\n",
              " <a class=\"title\" href=\"/book/el-duelo-gabriel-rolon/\" title=\"El duelo\">\n",
              " El duelo <span class=\"paragraph-end\"></span>\n",
              " </a>,\n",
              " <a class=\"title\" href=\"/book/si-lo-crees-lo-creas/\" title=\"Si lo crees, lo creas\">\n",
              " Si lo crees, lo creas <span class=\"paragraph-end\"></span>\n",
              " </a>,\n",
              " <a class=\"title\" href=\"/book/el-problema-de-los-tres-cuerpos/\" title=\"El problema de los Tres Cuerpos\">\n",
              " El problema de los Tres Cuerpos <span class=\"paragraph-end\"></span>\n",
              " </a>,\n",
              " <a class=\"title\" href=\"/book/te-doy-mi-corazon/\" title=\"Te doy mi corazón\">\n",
              " Te doy mi corazón <span class=\"paragraph-end\"></span>\n",
              " </a>,\n",
              " <a class=\"title\" href=\"/book/antes-de-diciembre/\" title=\"Antes de diciembre\">\n",
              " Antes de diciembre <span class=\"paragraph-end\"></span>\n",
              " </a>,\n",
              " <a class=\"title\" href=\"/book/ready-player-one/\" title=\"Ready Player One\">\n",
              " Ready Player One <span class=\"paragraph-end\"></span>\n",
              " </a>,\n",
              " <a class=\"title\" href=\"/book/la-chica-del-tren/\" title=\"La chica del tren\">\n",
              " La chica del tren <span class=\"paragraph-end\"></span>\n",
              " </a>,\n",
              " <a class=\"title\" href=\"/book/it/\" title=\"It\">\n",
              " It <span class=\"paragraph-end\"></span>\n",
              " </a>,\n",
              " <a class=\"title\" href=\"/book/el-libro-negro-de-la-nueva-izquierda/\" title=\"El libro negro de la Nueva Izquierda\">\n",
              " El libro negro de la Nueva Izquierda <span class=\"paragraph-end\"></span>\n",
              " </a>,\n",
              " <a class=\"title\" href=\"/book/origen/\" title=\"Origen\">\n",
              " Origen <span class=\"paragraph-end\"></span>\n",
              " </a>,\n",
              " <a class=\"title\" href=\"/book/un-monstruo-viene-a-verme/\" title=\"Un monstruo viene a verme\">\n",
              " Un monstruo viene a verme <span class=\"paragraph-end\"></span>\n",
              " </a>,\n",
              " <a class=\"title\" href=\"/book/la-verdad-sobre-el-caso-harry-quebert/\" title=\"La verdad sobre el caso Harry Quebert\">\n",
              " La verdad sobre el caso Harry Quebert <span class=\"paragraph-end\"></span>\n",
              " </a>,\n",
              " <a class=\"title\" href=\"/book/el-nombre-del-viento/\" title=\"El nombre del viento\">\n",
              " El nombre del viento <span class=\"paragraph-end\"></span>\n",
              " </a>]"
            ]
          },
          "metadata": {},
          "execution_count": 282
        }
      ]
    },
    {
      "cell_type": "code",
      "source": [
        "autor_html = html.find_all('div', class_=\"subdetail\")\n",
        "autor_html"
      ],
      "metadata": {
        "collapsed": true,
        "id": "0EAg3RyFtB4U",
        "colab": {
          "base_uri": "https://localhost:8080/"
        },
        "outputId": "a6ae7324-1b1a-40b9-fa8f-cdb0c220fe3c"
      },
      "execution_count": 283,
      "outputs": [
        {
          "output_type": "execute_result",
          "data": {
            "text/plain": [
              "[<div class=\"subdetail\">\n",
              " <a href=\"/autor/jordan-harper/\" rel=\"tag\">Jordan Harper</a> </div>,\n",
              " <div class=\"subdetail\">\n",
              " <a href=\"/autor/christopher-paolini/\" rel=\"tag\">Christopher Paolini</a> </div>,\n",
              " <div class=\"subdetail\">\n",
              " <a href=\"/serie/el-legado/\" rel=\"tag\" title=\"El legado - Libro: 5\">El legado - 5</a> </div>,\n",
              " <div class=\"subdetail\">\n",
              " <a href=\"/autor/camille-deangelis/\" rel=\"tag\">Camille DeAngelis</a> </div>,\n",
              " <div class=\"subdetail\">\n",
              " <a href=\"/autor/elena-montagud/\" rel=\"tag\">Elena Montagud</a> </div>,\n",
              " <div class=\"subdetail\">\n",
              " <a href=\"/autor/fred-vargas/\" rel=\"tag\">Fred Vargas</a> </div>,\n",
              " <div class=\"subdetail\">\n",
              " <a href=\"/serie/comisario-jean-baptiste-adamsberg/\" rel=\"tag\" title=\"Comisario Jean-Baptiste Adamsberg - Libro: 13\">Comisario Jean-Baptiste Adamsberg - 13</a> </div>,\n",
              " <div class=\"subdetail\">\n",
              " <a href=\"/autor/philip-k-dick/\" rel=\"tag\">Philip K. Dick</a> </div>,\n",
              " <div class=\"subdetail\">\n",
              " <a href=\"/autor/angeles-valero/\" rel=\"tag\">Ángeles Valero</a> · <a href=\"/autor/zahara-c-ordonez/\" rel=\"tag\">Zahara C. Ordóñez</a> </div>,\n",
              " <div class=\"subdetail\">\n",
              " <a href=\"/serie/sucedio-en-escocia/\" rel=\"tag\" title=\"Sucedió en Escocia - Libro: 6\">Sucedió en Escocia - 6</a> </div>,\n",
              " <div class=\"subdetail\">\n",
              " <a href=\"/autor/mark-twain/\" rel=\"tag\">Mark Twain</a> </div>,\n",
              " <div class=\"subdetail\">\n",
              " <a href=\"/autor/alfonso-w-quiroz/\" rel=\"tag\">Alfonso W. Quiroz</a> </div>,\n",
              " <div class=\"subdetail\">\n",
              " <a href=\"/autor/varios-autores/\" rel=\"tag\">Varios Autores</a> </div>,\n",
              " <div class=\"subdetail\">\n",
              " <a href=\"/serie/biblioteca-clasica-gredos/\" rel=\"tag\" title=\"Biblioteca Clásica Gredos - Libro: 318\">Biblioteca Clásica Gredos - 318</a> </div>,\n",
              " <div class=\"subdetail\">\n",
              " <a href=\"/autor/julian-de-zugasti/\" rel=\"tag\">Julian de Zugasti</a> </div>,\n",
              " <div class=\"subdetail\">\n",
              " <a href=\"/serie/el-bandolerismo/\" rel=\"tag\" title=\"El Bandolerismo - Libro: 2\">El Bandolerismo - 2</a> </div>,\n",
              " <div class=\"subdetail\">\n",
              " <a href=\"/autor/frances-crane/\" rel=\"tag\">Frances Crane</a> </div>,\n",
              " <div class=\"subdetail\">\n",
              " <a href=\"/serie/pat-y-jean-abbott/\" rel=\"tag\" title=\"Pat y Jean Abbott - Libro: 7\">Pat y Jean Abbott - 7</a> </div>,\n",
              " <div class=\"subdetail\">\n",
              " <a href=\"/autor/mona-kasten/\" rel=\"tag\">Mona Kasten</a> </div>,\n",
              " <div class=\"subdetail\">\n",
              " <a href=\"/serie/save/\" rel=\"tag\" title=\"Save - Libro: 1\">Save - 1</a> </div>,\n",
              " <div class=\"subdetail\">\n",
              " <a href=\"/autor/julia-quinn/\" rel=\"tag\">Julia Quinn</a> </div>,\n",
              " <div class=\"subdetail\">\n",
              " <a href=\"/serie/bridgerton/\" rel=\"tag\" title=\"Bridgerton - Libro: 1\">Bridgerton - 1</a> </div>,\n",
              " <div class=\"subdetail\">\n",
              " <a href=\"/autor/julia-quinn/\" rel=\"tag\">Julia Quinn</a> </div>,\n",
              " <div class=\"subdetail\">\n",
              " <a href=\"/serie/bridgerton/\" rel=\"tag\" title=\"Bridgerton - Libro: 4\">Bridgerton - 4</a> </div>,\n",
              " <div class=\"subdetail\">\n",
              " <a href=\"/autor/james-clear/\" rel=\"tag\">James Clear</a> </div>,\n",
              " <div class=\"subdetail\">\n",
              " <a href=\"/autor/colleen-hoover/\" rel=\"tag\">Colleen Hoover</a> </div>,\n",
              " <div class=\"subdetail\">\n",
              " <a href=\"/serie/romper-el-circulo/\" rel=\"tag\" title=\"Romper el círculo - Libro: 1\">Romper el círculo - 1</a> </div>,\n",
              " <div class=\"subdetail\">\n",
              " <a href=\"/autor/harlan-ellison/\" rel=\"tag\">Harlan Ellison</a> </div>,\n",
              " <div class=\"subdetail\">\n",
              " <a href=\"/autor/julia-quinn/\" rel=\"tag\">Julia Quinn</a> </div>,\n",
              " <div class=\"subdetail\">\n",
              " <a href=\"/serie/bridgerton/\" rel=\"tag\" title=\"Bridgerton - Libro: 6\">Bridgerton - 6</a> </div>,\n",
              " <div class=\"subdetail\">\n",
              " <a href=\"/autor/neil-strauss/\" rel=\"tag\">Neil Strauss</a> </div>,\n",
              " <div class=\"subdetail\">\n",
              " <a href=\"/autor/robin-norwood/\" rel=\"tag\">Robin Norwood</a> </div>,\n",
              " <div class=\"subdetail\">\n",
              " <a href=\"/autor/robert-greene/\" rel=\"tag\">Robert Greene</a> </div>,\n",
              " <div class=\"subdetail\">\n",
              " <a href=\"/autor/frank-suarez/\" rel=\"tag\">Frank Suárez</a> </div>,\n",
              " <div class=\"subdetail\">\n",
              " <a href=\"/autor/gabriel-rolon/\" rel=\"tag\">Gabriel Rolón</a> </div>,\n",
              " <div class=\"subdetail\">\n",
              " <a href=\"/autor/brian-tracy/\" rel=\"tag\">Brian Tracy</a> · <a href=\"/autor/christina-stein/\" rel=\"tag\">Christina Stein</a> </div>,\n",
              " <div class=\"subdetail\">\n",
              " <a href=\"/autor/liu-cixin/\" rel=\"tag\">Liu Cixin</a> </div>,\n",
              " <div class=\"subdetail\">\n",
              " <a href=\"/serie/trilogia-de-los-tres-cuerpos/\" rel=\"tag\" title=\"Trilogía de los Tres Cuerpos - Libro: 1\">Trilogía de los Tres Cuerpos - 1</a> </div>,\n",
              " <div class=\"subdetail\">\n",
              " <a href=\"/autor/julia-quinn/\" rel=\"tag\">Julia Quinn</a> </div>,\n",
              " <div class=\"subdetail\">\n",
              " <a href=\"/serie/bridgerton/\" rel=\"tag\" title=\"Bridgerton - Libro: 3\">Bridgerton - 3</a> </div>,\n",
              " <div class=\"subdetail\">\n",
              " <a href=\"/autor/joana-marcus/\" rel=\"tag\">Joana Marcús</a> </div>,\n",
              " <div class=\"subdetail\">\n",
              " <a href=\"/serie/meses-a-tu-lado/\" rel=\"tag\" title=\"Meses a tu lado - Libro: 1\">Meses a tu lado - 1</a> </div>,\n",
              " <div class=\"subdetail\">\n",
              " <a href=\"/autor/ernest-cline/\" rel=\"tag\">Ernest Cline</a> </div>,\n",
              " <div class=\"subdetail\">\n",
              " <a href=\"/autor/paula-hawkins/\" rel=\"tag\">Paula Hawkins</a> </div>,\n",
              " <div class=\"subdetail\">\n",
              " <a href=\"/autor/stephen-king/\" rel=\"tag\">Stephen King</a> </div>,\n",
              " <div class=\"subdetail\">\n",
              " <a href=\"/autor/agustin-laje/\" rel=\"tag\">Agustín Laje</a> · <a href=\"/autor/nicolas-marquez/\" rel=\"tag\">Nicolás Márquez</a> </div>,\n",
              " <div class=\"subdetail\">\n",
              " <a href=\"/autor/dan-brown/\" rel=\"tag\">Dan Brown</a> </div>,\n",
              " <div class=\"subdetail\">\n",
              " <a href=\"/serie/robert-langdon/\" rel=\"tag\" title=\"Robert Langdon - Libro: 5\">Robert Langdon - 5</a> </div>,\n",
              " <div class=\"subdetail\">\n",
              " <a href=\"/autor/patrick-ness/\" rel=\"tag\">Patrick Ness</a> </div>,\n",
              " <div class=\"subdetail\">\n",
              " <a href=\"/autor/joel-dicker/\" rel=\"tag\">Joël Dicker</a> </div>,\n",
              " <div class=\"subdetail\">\n",
              " <a href=\"/serie/marcus-goldman/\" rel=\"tag\" title=\"Marcus Goldman - Libro: 1\">Marcus Goldman - 1</a> </div>,\n",
              " <div class=\"subdetail\">\n",
              " <a href=\"/autor/patrick-rothfuss/\" rel=\"tag\">Patrick Rothfuss</a> </div>,\n",
              " <div class=\"subdetail\">\n",
              " <a href=\"/serie/la-cronica-del-asesino-de-reyes/\" rel=\"tag\" title=\"La crónica del asesino de reyes - Libro: 1\">La crónica del asesino de reyes - 1</a> </div>]"
            ]
          },
          "metadata": {},
          "execution_count": 283
        }
      ]
    },
    {
      "cell_type": "markdown",
      "source": [
        "Definimos los 10 generos que vamos a cargar"
      ],
      "metadata": {
        "id": "0sgvYJpgKnQi"
      }
    },
    {
      "cell_type": "markdown",
      "source": [
        "### Scraping"
      ],
      "metadata": {
        "id": "SH96xEIuBG4C"
      }
    },
    {
      "cell_type": "markdown",
      "source": [
        "Se realiza el parseo del contenido deseado según las etiquetas html del sitio."
      ],
      "metadata": {
        "id": "i1L1p6LOBSyy"
      }
    },
    {
      "cell_type": "code",
      "source": [
        "import requests\n",
        "from bs4 import BeautifulSoup\n",
        "import nltk\n",
        "from nltk.corpus import stopwords\n",
        "\n",
        "import nltk\n",
        "from nltk.corpus import stopwords\n",
        "\n",
        "nltk.download('stopwords')\n",
        "stop_words = set(stopwords.words('spanish'))\n",
        "stop_words = list(stop_words)\n",
        "\n",
        "\n",
        "def scrape_lectulandia():\n",
        "\n",
        "    base_url = \"https://ww3.lectulandia.com/genero/\"\n",
        "    generos = ['cuentos', 'humor', 'infantil', 'medicina', 'musica','poesia',\\\n",
        "               'politica', 'sociologia','tecnologia', 'viajes']\n",
        "    libros = []\n",
        "\n",
        "    for genero in generos:\n",
        "            url = f\"{base_url}{genero}\"\n",
        "            response = requests.get(url)\n",
        "            if response.status_code != 200:\n",
        "                break  # Rompe el bucle si la página no existe\n",
        "            soup = BeautifulSoup(response.content, 'html.parser')\n",
        "\n",
        "            # Extraer los elementos de los libros\n",
        "\n",
        "            titulos = soup.find_all('a', class_='title')\n",
        "            autores = soup.find_all('div', class_='subdetail')\n",
        "            resumenes = soup.find_all('div', class_='description')\n",
        "\n",
        "            for titulo, autor, resumen in zip(titulos, autores, resumenes):\n",
        "\n",
        "                libro_titulo = titulo.get_text(strip=True)\n",
        "                libro_autor = autor.get_text(strip=True)\n",
        "                libro_genero = genero  # Usamos el género que estamos iterando\n",
        "                libro_resumen = resumen.get_text(strip=True)\n",
        "\n",
        "                libros.append({\n",
        "                    'titulo': libro_titulo,\n",
        "                    'autor': libro_autor,\n",
        "                    'genero': libro_genero,\n",
        "                    'sinopsis': libro_resumen\n",
        "                })\n",
        "\n",
        "    return libros\n"
      ],
      "metadata": {
        "colab": {
          "base_uri": "https://localhost:8080/"
        },
        "id": "2AWawFVjXg_7",
        "outputId": "4e680ba0-5216-4e75-adfa-32476c00b1a7"
      },
      "execution_count": 284,
      "outputs": [
        {
          "output_type": "stream",
          "name": "stderr",
          "text": [
            "[nltk_data] Downloading package stopwords to /root/nltk_data...\n",
            "[nltk_data]   Package stopwords is already up-to-date!\n"
          ]
        }
      ]
    },
    {
      "cell_type": "code",
      "source": [
        "libros = scrape_lectulandia()\n",
        "df = pd.DataFrame(libros)"
      ],
      "metadata": {
        "id": "gVYihJb2KvgL"
      },
      "execution_count": 285,
      "outputs": []
    },
    {
      "cell_type": "markdown",
      "source": [
        "Verificamos la carga correcta de los generos seleccionados y el balanceo del dataset."
      ],
      "metadata": {
        "id": "smv9aipTL1iI"
      }
    },
    {
      "cell_type": "code",
      "source": [
        "df['genero'].unique()"
      ],
      "metadata": {
        "colab": {
          "base_uri": "https://localhost:8080/"
        },
        "id": "qFnxwgr9KyVe",
        "outputId": "09e3a36d-174f-4e4f-e3e4-757ef2d989d1"
      },
      "execution_count": 286,
      "outputs": [
        {
          "output_type": "execute_result",
          "data": {
            "text/plain": [
              "array(['cuentos', 'humor', 'infantil', 'medicina', 'musica', 'poesia',\n",
              "       'politica', 'sociologia', 'tecnologia', 'viajes'], dtype=object)"
            ]
          },
          "metadata": {},
          "execution_count": 286
        }
      ]
    },
    {
      "cell_type": "code",
      "source": [
        "df['genero'].value_counts()"
      ],
      "metadata": {
        "colab": {
          "base_uri": "https://localhost:8080/"
        },
        "id": "REtRbUlNKz6L",
        "outputId": "5064667c-eae7-44d2-c45f-84a97dab482d"
      },
      "execution_count": 287,
      "outputs": [
        {
          "output_type": "execute_result",
          "data": {
            "text/plain": [
              "genero\n",
              "cuentos       24\n",
              "humor         24\n",
              "infantil      24\n",
              "medicina      24\n",
              "musica        24\n",
              "poesia        24\n",
              "politica      24\n",
              "sociologia    24\n",
              "tecnologia    24\n",
              "viajes        24\n",
              "Name: count, dtype: int64"
            ]
          },
          "metadata": {},
          "execution_count": 287
        }
      ]
    },
    {
      "cell_type": "markdown",
      "source": [],
      "metadata": {
        "id": "ugCQaXJtb3Ky"
      }
    },
    {
      "cell_type": "markdown",
      "source": [
        "El dataset **df** se guarda un archivo **libros_lectulandia.csv**"
      ],
      "metadata": {
        "id": "djQ_OsJcLvo5"
      }
    },
    {
      "cell_type": "code",
      "source": [
        "df.to_csv('libros_lectulandia.csv', index=False)"
      ],
      "metadata": {
        "id": "c6F_5ko8K1mG"
      },
      "execution_count": 288,
      "outputs": []
    },
    {
      "cell_type": "markdown",
      "source": [
        "**Carga del archivo**"
      ],
      "metadata": {
        "id": "vHRS1lUfLjiy"
      }
    },
    {
      "cell_type": "code",
      "source": [
        "libros = pd.read_csv('libros_lectulandia.csv')\n",
        "libros.sample(10)"
      ],
      "metadata": {
        "colab": {
          "base_uri": "https://localhost:8080/",
          "height": 363
        },
        "id": "pJaRQR3lK4TC",
        "outputId": "dd98bf0b-fc91-4b35-91bf-966cc1889873"
      },
      "execution_count": 289,
      "outputs": [
        {
          "output_type": "execute_result",
          "data": {
            "text/plain": [
              "                                                titulo  \\\n",
              "115                Ejercicios de guitarra para dummies   \n",
              "51                       Aventuras de valor y heroísmo   \n",
              "87   Mujeres invisibles para la medicina: desveland...   \n",
              "134                                            Obras I   \n",
              "1                                 Las Almas de Brandon   \n",
              "166                                           Himalaya   \n",
              "141                                           Poemas I   \n",
              "98             Come as you are: la historia de Nirvana   \n",
              "28                           ¡A mí me lo vas a contar!   \n",
              "104                                El instinto musical   \n",
              "\n",
              "                                     autor    genero  \\\n",
              "115                              Edi Clavo    musica   \n",
              "51   El barco de vapor - Serie blanca - 13  infantil   \n",
              "87                      Carme Valls Llobet  medicina   \n",
              "134                             John Keats    poesia   \n",
              "1                     César Brandon Ndjocu   cuentos   \n",
              "166                          Erika Fatland  politica   \n",
              "141        Biblioteca Clásica Gredos - 147    poesia   \n",
              "98                         Michael Azerrad    musica   \n",
              "28                        Locos, Sexis - 1     humor   \n",
              "104         Eso no estaba en mi libro - 11    musica   \n",
              "\n",
              "                                              sinopsis  \n",
              "115  Tocar la guitarra es una actividad que goza de...  \n",
              "51   Cinco historias que cuentan distintos actos he...  \n",
              "87   ¿Por qué cuando un hombre acude con dolor tor...  \n",
              "134  El bordelés Ausonio fue el más notable poeta l...  \n",
              "1    Las almas de Brandon es un recopilatorio de hi...  \n",
              "166  Erika Fatland nos conduce en esta obra a las a...  \n",
              "141  Claudio Claudiano es el último gran poeta lati...  \n",
              "98   El 24 de septiembre de 1991, Nirvana publicaba...  \n",
              "28   Cuando el destino se empeña en poner en tu cam...  \n",
              "104  Si hay algo que compartan todas las culturas h...  "
            ],
            "text/html": [
              "\n",
              "  <div id=\"df-1cf4fc02-8906-48e4-b40e-41cc2e5a5860\" class=\"colab-df-container\">\n",
              "    <div>\n",
              "<style scoped>\n",
              "    .dataframe tbody tr th:only-of-type {\n",
              "        vertical-align: middle;\n",
              "    }\n",
              "\n",
              "    .dataframe tbody tr th {\n",
              "        vertical-align: top;\n",
              "    }\n",
              "\n",
              "    .dataframe thead th {\n",
              "        text-align: right;\n",
              "    }\n",
              "</style>\n",
              "<table border=\"1\" class=\"dataframe\">\n",
              "  <thead>\n",
              "    <tr style=\"text-align: right;\">\n",
              "      <th></th>\n",
              "      <th>titulo</th>\n",
              "      <th>autor</th>\n",
              "      <th>genero</th>\n",
              "      <th>sinopsis</th>\n",
              "    </tr>\n",
              "  </thead>\n",
              "  <tbody>\n",
              "    <tr>\n",
              "      <th>115</th>\n",
              "      <td>Ejercicios de guitarra para dummies</td>\n",
              "      <td>Edi Clavo</td>\n",
              "      <td>musica</td>\n",
              "      <td>Tocar la guitarra es una actividad que goza de...</td>\n",
              "    </tr>\n",
              "    <tr>\n",
              "      <th>51</th>\n",
              "      <td>Aventuras de valor y heroísmo</td>\n",
              "      <td>El barco de vapor - Serie blanca - 13</td>\n",
              "      <td>infantil</td>\n",
              "      <td>Cinco historias que cuentan distintos actos he...</td>\n",
              "    </tr>\n",
              "    <tr>\n",
              "      <th>87</th>\n",
              "      <td>Mujeres invisibles para la medicina: desveland...</td>\n",
              "      <td>Carme Valls Llobet</td>\n",
              "      <td>medicina</td>\n",
              "      <td>¿Por qué cuando un hombre acude con dolor tor...</td>\n",
              "    </tr>\n",
              "    <tr>\n",
              "      <th>134</th>\n",
              "      <td>Obras I</td>\n",
              "      <td>John Keats</td>\n",
              "      <td>poesia</td>\n",
              "      <td>El bordelés Ausonio fue el más notable poeta l...</td>\n",
              "    </tr>\n",
              "    <tr>\n",
              "      <th>1</th>\n",
              "      <td>Las Almas de Brandon</td>\n",
              "      <td>César Brandon Ndjocu</td>\n",
              "      <td>cuentos</td>\n",
              "      <td>Las almas de Brandon es un recopilatorio de hi...</td>\n",
              "    </tr>\n",
              "    <tr>\n",
              "      <th>166</th>\n",
              "      <td>Himalaya</td>\n",
              "      <td>Erika Fatland</td>\n",
              "      <td>politica</td>\n",
              "      <td>Erika Fatland nos conduce en esta obra a las a...</td>\n",
              "    </tr>\n",
              "    <tr>\n",
              "      <th>141</th>\n",
              "      <td>Poemas I</td>\n",
              "      <td>Biblioteca Clásica Gredos - 147</td>\n",
              "      <td>poesia</td>\n",
              "      <td>Claudio Claudiano es el último gran poeta lati...</td>\n",
              "    </tr>\n",
              "    <tr>\n",
              "      <th>98</th>\n",
              "      <td>Come as you are: la historia de Nirvana</td>\n",
              "      <td>Michael Azerrad</td>\n",
              "      <td>musica</td>\n",
              "      <td>El 24 de septiembre de 1991, Nirvana publicaba...</td>\n",
              "    </tr>\n",
              "    <tr>\n",
              "      <th>28</th>\n",
              "      <td>¡A mí me lo vas a contar!</td>\n",
              "      <td>Locos, Sexis - 1</td>\n",
              "      <td>humor</td>\n",
              "      <td>Cuando el destino se empeña en poner en tu cam...</td>\n",
              "    </tr>\n",
              "    <tr>\n",
              "      <th>104</th>\n",
              "      <td>El instinto musical</td>\n",
              "      <td>Eso no estaba en mi libro - 11</td>\n",
              "      <td>musica</td>\n",
              "      <td>Si hay algo que compartan todas las culturas h...</td>\n",
              "    </tr>\n",
              "  </tbody>\n",
              "</table>\n",
              "</div>\n",
              "    <div class=\"colab-df-buttons\">\n",
              "\n",
              "  <div class=\"colab-df-container\">\n",
              "    <button class=\"colab-df-convert\" onclick=\"convertToInteractive('df-1cf4fc02-8906-48e4-b40e-41cc2e5a5860')\"\n",
              "            title=\"Convert this dataframe to an interactive table.\"\n",
              "            style=\"display:none;\">\n",
              "\n",
              "  <svg xmlns=\"http://www.w3.org/2000/svg\" height=\"24px\" viewBox=\"0 -960 960 960\">\n",
              "    <path d=\"M120-120v-720h720v720H120Zm60-500h600v-160H180v160Zm220 220h160v-160H400v160Zm0 220h160v-160H400v160ZM180-400h160v-160H180v160Zm440 0h160v-160H620v160ZM180-180h160v-160H180v160Zm440 0h160v-160H620v160Z\"/>\n",
              "  </svg>\n",
              "    </button>\n",
              "\n",
              "  <style>\n",
              "    .colab-df-container {\n",
              "      display:flex;\n",
              "      gap: 12px;\n",
              "    }\n",
              "\n",
              "    .colab-df-convert {\n",
              "      background-color: #E8F0FE;\n",
              "      border: none;\n",
              "      border-radius: 50%;\n",
              "      cursor: pointer;\n",
              "      display: none;\n",
              "      fill: #1967D2;\n",
              "      height: 32px;\n",
              "      padding: 0 0 0 0;\n",
              "      width: 32px;\n",
              "    }\n",
              "\n",
              "    .colab-df-convert:hover {\n",
              "      background-color: #E2EBFA;\n",
              "      box-shadow: 0px 1px 2px rgba(60, 64, 67, 0.3), 0px 1px 3px 1px rgba(60, 64, 67, 0.15);\n",
              "      fill: #174EA6;\n",
              "    }\n",
              "\n",
              "    .colab-df-buttons div {\n",
              "      margin-bottom: 4px;\n",
              "    }\n",
              "\n",
              "    [theme=dark] .colab-df-convert {\n",
              "      background-color: #3B4455;\n",
              "      fill: #D2E3FC;\n",
              "    }\n",
              "\n",
              "    [theme=dark] .colab-df-convert:hover {\n",
              "      background-color: #434B5C;\n",
              "      box-shadow: 0px 1px 3px 1px rgba(0, 0, 0, 0.15);\n",
              "      filter: drop-shadow(0px 1px 2px rgba(0, 0, 0, 0.3));\n",
              "      fill: #FFFFFF;\n",
              "    }\n",
              "  </style>\n",
              "\n",
              "    <script>\n",
              "      const buttonEl =\n",
              "        document.querySelector('#df-1cf4fc02-8906-48e4-b40e-41cc2e5a5860 button.colab-df-convert');\n",
              "      buttonEl.style.display =\n",
              "        google.colab.kernel.accessAllowed ? 'block' : 'none';\n",
              "\n",
              "      async function convertToInteractive(key) {\n",
              "        const element = document.querySelector('#df-1cf4fc02-8906-48e4-b40e-41cc2e5a5860');\n",
              "        const dataTable =\n",
              "          await google.colab.kernel.invokeFunction('convertToInteractive',\n",
              "                                                    [key], {});\n",
              "        if (!dataTable) return;\n",
              "\n",
              "        const docLinkHtml = 'Like what you see? Visit the ' +\n",
              "          '<a target=\"_blank\" href=https://colab.research.google.com/notebooks/data_table.ipynb>data table notebook</a>'\n",
              "          + ' to learn more about interactive tables.';\n",
              "        element.innerHTML = '';\n",
              "        dataTable['output_type'] = 'display_data';\n",
              "        await google.colab.output.renderOutput(dataTable, element);\n",
              "        const docLink = document.createElement('div');\n",
              "        docLink.innerHTML = docLinkHtml;\n",
              "        element.appendChild(docLink);\n",
              "      }\n",
              "    </script>\n",
              "  </div>\n",
              "\n",
              "\n",
              "<div id=\"df-3e6a0dae-16e7-49f6-94b1-4cfc12b33cee\">\n",
              "  <button class=\"colab-df-quickchart\" onclick=\"quickchart('df-3e6a0dae-16e7-49f6-94b1-4cfc12b33cee')\"\n",
              "            title=\"Suggest charts\"\n",
              "            style=\"display:none;\">\n",
              "\n",
              "<svg xmlns=\"http://www.w3.org/2000/svg\" height=\"24px\"viewBox=\"0 0 24 24\"\n",
              "     width=\"24px\">\n",
              "    <g>\n",
              "        <path d=\"M19 3H5c-1.1 0-2 .9-2 2v14c0 1.1.9 2 2 2h14c1.1 0 2-.9 2-2V5c0-1.1-.9-2-2-2zM9 17H7v-7h2v7zm4 0h-2V7h2v10zm4 0h-2v-4h2v4z\"/>\n",
              "    </g>\n",
              "</svg>\n",
              "  </button>\n",
              "\n",
              "<style>\n",
              "  .colab-df-quickchart {\n",
              "      --bg-color: #E8F0FE;\n",
              "      --fill-color: #1967D2;\n",
              "      --hover-bg-color: #E2EBFA;\n",
              "      --hover-fill-color: #174EA6;\n",
              "      --disabled-fill-color: #AAA;\n",
              "      --disabled-bg-color: #DDD;\n",
              "  }\n",
              "\n",
              "  [theme=dark] .colab-df-quickchart {\n",
              "      --bg-color: #3B4455;\n",
              "      --fill-color: #D2E3FC;\n",
              "      --hover-bg-color: #434B5C;\n",
              "      --hover-fill-color: #FFFFFF;\n",
              "      --disabled-bg-color: #3B4455;\n",
              "      --disabled-fill-color: #666;\n",
              "  }\n",
              "\n",
              "  .colab-df-quickchart {\n",
              "    background-color: var(--bg-color);\n",
              "    border: none;\n",
              "    border-radius: 50%;\n",
              "    cursor: pointer;\n",
              "    display: none;\n",
              "    fill: var(--fill-color);\n",
              "    height: 32px;\n",
              "    padding: 0;\n",
              "    width: 32px;\n",
              "  }\n",
              "\n",
              "  .colab-df-quickchart:hover {\n",
              "    background-color: var(--hover-bg-color);\n",
              "    box-shadow: 0 1px 2px rgba(60, 64, 67, 0.3), 0 1px 3px 1px rgba(60, 64, 67, 0.15);\n",
              "    fill: var(--button-hover-fill-color);\n",
              "  }\n",
              "\n",
              "  .colab-df-quickchart-complete:disabled,\n",
              "  .colab-df-quickchart-complete:disabled:hover {\n",
              "    background-color: var(--disabled-bg-color);\n",
              "    fill: var(--disabled-fill-color);\n",
              "    box-shadow: none;\n",
              "  }\n",
              "\n",
              "  .colab-df-spinner {\n",
              "    border: 2px solid var(--fill-color);\n",
              "    border-color: transparent;\n",
              "    border-bottom-color: var(--fill-color);\n",
              "    animation:\n",
              "      spin 1s steps(1) infinite;\n",
              "  }\n",
              "\n",
              "  @keyframes spin {\n",
              "    0% {\n",
              "      border-color: transparent;\n",
              "      border-bottom-color: var(--fill-color);\n",
              "      border-left-color: var(--fill-color);\n",
              "    }\n",
              "    20% {\n",
              "      border-color: transparent;\n",
              "      border-left-color: var(--fill-color);\n",
              "      border-top-color: var(--fill-color);\n",
              "    }\n",
              "    30% {\n",
              "      border-color: transparent;\n",
              "      border-left-color: var(--fill-color);\n",
              "      border-top-color: var(--fill-color);\n",
              "      border-right-color: var(--fill-color);\n",
              "    }\n",
              "    40% {\n",
              "      border-color: transparent;\n",
              "      border-right-color: var(--fill-color);\n",
              "      border-top-color: var(--fill-color);\n",
              "    }\n",
              "    60% {\n",
              "      border-color: transparent;\n",
              "      border-right-color: var(--fill-color);\n",
              "    }\n",
              "    80% {\n",
              "      border-color: transparent;\n",
              "      border-right-color: var(--fill-color);\n",
              "      border-bottom-color: var(--fill-color);\n",
              "    }\n",
              "    90% {\n",
              "      border-color: transparent;\n",
              "      border-bottom-color: var(--fill-color);\n",
              "    }\n",
              "  }\n",
              "</style>\n",
              "\n",
              "  <script>\n",
              "    async function quickchart(key) {\n",
              "      const quickchartButtonEl =\n",
              "        document.querySelector('#' + key + ' button');\n",
              "      quickchartButtonEl.disabled = true;  // To prevent multiple clicks.\n",
              "      quickchartButtonEl.classList.add('colab-df-spinner');\n",
              "      try {\n",
              "        const charts = await google.colab.kernel.invokeFunction(\n",
              "            'suggestCharts', [key], {});\n",
              "      } catch (error) {\n",
              "        console.error('Error during call to suggestCharts:', error);\n",
              "      }\n",
              "      quickchartButtonEl.classList.remove('colab-df-spinner');\n",
              "      quickchartButtonEl.classList.add('colab-df-quickchart-complete');\n",
              "    }\n",
              "    (() => {\n",
              "      let quickchartButtonEl =\n",
              "        document.querySelector('#df-3e6a0dae-16e7-49f6-94b1-4cfc12b33cee button');\n",
              "      quickchartButtonEl.style.display =\n",
              "        google.colab.kernel.accessAllowed ? 'block' : 'none';\n",
              "    })();\n",
              "  </script>\n",
              "</div>\n",
              "\n",
              "    </div>\n",
              "  </div>\n"
            ],
            "application/vnd.google.colaboratory.intrinsic+json": {
              "type": "dataframe",
              "summary": "{\n  \"name\": \"libros\",\n  \"rows\": 10,\n  \"fields\": [\n    {\n      \"column\": \"titulo\",\n      \"properties\": {\n        \"dtype\": \"string\",\n        \"num_unique_values\": 10,\n        \"samples\": [\n          \"\\u00a1A m\\u00ed me lo vas a contar!\",\n          \"Aventuras de valor y hero\\u00edsmo\",\n          \"Himalaya\"\n        ],\n        \"semantic_type\": \"\",\n        \"description\": \"\"\n      }\n    },\n    {\n      \"column\": \"autor\",\n      \"properties\": {\n        \"dtype\": \"string\",\n        \"num_unique_values\": 10,\n        \"samples\": [\n          \"Locos, Sexis - 1\",\n          \"El barco de vapor - Serie blanca - 13\",\n          \"Erika Fatland\"\n        ],\n        \"semantic_type\": \"\",\n        \"description\": \"\"\n      }\n    },\n    {\n      \"column\": \"genero\",\n      \"properties\": {\n        \"dtype\": \"string\",\n        \"num_unique_values\": 7,\n        \"samples\": [\n          \"musica\",\n          \"infantil\",\n          \"politica\"\n        ],\n        \"semantic_type\": \"\",\n        \"description\": \"\"\n      }\n    },\n    {\n      \"column\": \"sinopsis\",\n      \"properties\": {\n        \"dtype\": \"string\",\n        \"num_unique_values\": 10,\n        \"samples\": [\n          \"Cuando el destino se empe\\u00f1a en poner en tu camino a la misma persona una y otra vez, \\u00bfes una se\\u00f1al de amor? Y si no lo soportas, \\u00bfes una tortura o simplemente no sabes entender los mensajes de la vida?Te han puesto los cuernos. Eres la nueva unicornuda. Te han contratado para que presentes [\\u2026]\",\n          \"Cinco historias que cuentan distintos actos heroicos.\",\n          \"Erika Fatland nos conduce en esta obra a las alturas vertiginosas del legendario Himalaya, la vasta cordillera que serpentea a trav\\u00e9s de cinco pa\\u00edses en los que el islam, el budismo y el hinduismo se mezclan con ancestrales creencias cham\\u00e1nicas. Innumerables lenguas y culturas muy distintas entre s\\u00ed cohabitan en los rec\\u00f3nditos valles del llamado [\\u2026]\"\n        ],\n        \"semantic_type\": \"\",\n        \"description\": \"\"\n      }\n    }\n  ]\n}"
            }
          },
          "metadata": {},
          "execution_count": 289
        }
      ]
    },
    {
      "cell_type": "markdown",
      "source": [],
      "metadata": {
        "id": "08jS4juBXVcG"
      }
    },
    {
      "cell_type": "code",
      "source": [
        "libros['sinopsis'][101]\n"
      ],
      "metadata": {
        "colab": {
          "base_uri": "https://localhost:8080/",
          "height": 70
        },
        "id": "N4UYz65mK6yY",
        "outputId": "e32149f1-8b24-48ec-e024-81fc6d89c09d"
      },
      "execution_count": 290,
      "outputs": [
        {
          "output_type": "execute_result",
          "data": {
            "text/plain": [
              "'Elvira de Hidalgo (1891-1980) fue una de las más destacadas sopranos del primer tercio del siglo XX, rescatada ahora del olvido gracias a esta monumental biografía de Juan Villalba Sebastián, que ha contado con la colaboración de musicólogos y especialistas de distintas nacionalidades. Nacida en Valderrobres, Teruel, Elvira fue reconocida por todos los públicos y […]'"
            ],
            "application/vnd.google.colaboratory.intrinsic+json": {
              "type": "string"
            }
          },
          "metadata": {},
          "execution_count": 290
        }
      ]
    },
    {
      "cell_type": "markdown",
      "source": [
        "**Eliminacion de acentos,puntuaciones,mayusculas y espacios en blanco**"
      ],
      "metadata": {
        "id": "hBRt3FKBcGiZ"
      }
    },
    {
      "cell_type": "code",
      "source": [
        "import re\n",
        "import unicodedata\n",
        "\n",
        "def preprocesar_texto(texto):\n",
        "    # Convertir a minúsculas\n",
        "    texto = texto.lower()\n",
        "\n",
        "    # Eliminar acentos\n",
        "    texto = ''.join(c for c in unicodedata.normalize('NFD', texto) if unicodedata.category(c) != 'Mn')\n",
        "\n",
        "    # Eliminar puntuación\n",
        "    texto = re.sub(r'[^\\w\\s]', '', texto)\n",
        "\n",
        "    # Eliminar espacios en blanco adicionales\n",
        "    texto = re.sub(r'\\s+', ' ', texto).strip()\n",
        "\n",
        "    return texto\n"
      ],
      "metadata": {
        "id": "ZaeAHBJEcVSU"
      },
      "execution_count": 291,
      "outputs": []
    },
    {
      "cell_type": "markdown",
      "source": [
        "**Recomendacion directa**"
      ],
      "metadata": {
        "id": "RGQMjNJLfnD1"
      }
    },
    {
      "cell_type": "code",
      "source": [
        "from gensim.models import Word2Vec\n",
        "from nltk.tokenize import word_tokenize"
      ],
      "metadata": {
        "id": "RPCmkE9zPMwE"
      },
      "execution_count": 292,
      "outputs": []
    },
    {
      "cell_type": "code",
      "source": [
        "import nltk\n",
        "nltk.download('punkt')\n",
        "\n",
        "# Función para tokenizar las sinopsis\n",
        "def tokenizar_sinopsis(sinopsis):\n",
        "    return word_tokenize(sinopsis.lower())\n",
        "\n",
        "# Tokenizar las sinopsis y entrenar el modelo Word2Vec\n",
        "textos_tokenizados = [tokenizar_sinopsis(sinopsis) for sinopsis in df['sinopsis']]\n",
        "modelo_word2vec = Word2Vec(sentences=textos_tokenizados, vector_size=100, window=5, min_count=1, workers=4)"
      ],
      "metadata": {
        "colab": {
          "base_uri": "https://localhost:8080/"
        },
        "id": "wrxOqSwOUpV0",
        "outputId": "e3cd821d-dc4a-47dd-a5dd-bee18371da50"
      },
      "execution_count": 293,
      "outputs": [
        {
          "output_type": "stream",
          "name": "stderr",
          "text": [
            "[nltk_data] Downloading package punkt to /root/nltk_data...\n",
            "[nltk_data]   Package punkt is already up-to-date!\n"
          ]
        }
      ]
    },
    {
      "cell_type": "code",
      "source": [
        "def recomendacion_directa_word2vec(entrada_usuario, df, modelo_word2vec, num_recomendaciones=3):\n",
        "    # Preprocesar la entrada del usuario\n",
        "    entrada_procesada = preprocesar_texto(entrada_usuario)\n",
        "\n",
        "    # Calcular la similitud entre la entrada del usuario y las sinopsis de los libros usando Word2Vec\n",
        "    similitudes = {}\n",
        "    for idx, row in df.iterrows():\n",
        "        similitudes[idx] = modelo_word2vec.wv.n_similarity(entrada_procesada.split(), row['sinopsis'].split())\n",
        "\n",
        "    # Ordenar por similitud descendente\n",
        "    similitudes_ordenadas = sorted(similitudes.items(), key=lambda x: x[1], reverse=True)\n",
        "    libros_relevantes = df.iloc[[idx for idx, _ in similitudes_ordenadas[:num_recomendaciones]]]\n",
        "\n",
        "    return libros_relevantes\n"
      ],
      "metadata": {
        "id": "_m-3UZWVPC5E"
      },
      "execution_count": 294,
      "outputs": []
    },
    {
      "cell_type": "markdown",
      "source": [
        "**Recomendacion por autor**"
      ],
      "metadata": {
        "id": "BTbU7qdlg-h4"
      }
    },
    {
      "cell_type": "code",
      "source": [
        "from sklearn.feature_extraction.text import TfidfVectorizer\n",
        "from sklearn.metrics.pairwise import cosine_similarity\n",
        "import random"
      ],
      "metadata": {
        "id": "SXywpHinhHzk"
      },
      "execution_count": 295,
      "outputs": []
    },
    {
      "cell_type": "code",
      "source": [
        "# Función para recomendar libros por autor\n",
        "def recomendar_libros_por_autor(autor):\n",
        "    # Preprocesar el nombre del autor\n",
        "    autor_procesado = preprocesar_texto(autor)\n",
        "\n",
        "    # Calcular la similitud coseno entre el nombre del autor y todos los autores en el DataFrame\n",
        "    tfidf_vectorizer = TfidfVectorizer()\n",
        "    autor_vector = tfidf_vectorizer.fit_transform([autor_procesado])\n",
        "    autores_vectorizados = tfidf_vectorizer.transform(df['autor'])\n",
        "    similitudes = cosine_similarity(autor_vector, autores_vectorizados)\n",
        "\n",
        "    # Obtener los índices de los dos autores más similares\n",
        "    indices_autores_similares = similitudes.argsort(axis=1)[0][-2:]\n",
        "\n",
        "    # Obtener los libros asociados a los dos autores más similares\n",
        "    libros_relevantes = df[df.index.isin(indices_autores_similares)].copy()\n",
        "\n",
        "    # Seleccionar los dos libros más relevantes del autor más similar\n",
        "    libros_autor_mas_similar = libros_relevantes.iloc[0:2]\n",
        "\n",
        "    # Seleccionar uno de los libros del segundo autor más cercano al azar si hay varios\n",
        "    libros_segundo_autor = libros_relevantes.iloc[2:]\n",
        "    if len(libros_segundo_autor) > 0:\n",
        "        libro_elegido = libros_segundo_autor.sample(1)\n",
        "        libros_recomendados = pd.concat([libros_autor_mas_similar, libro_elegido])\n",
        "    else:\n",
        "        libros_recomendados = libros_autor_mas_similar\n",
        "\n",
        "    return libros_recomendados\n",
        "\n"
      ],
      "metadata": {
        "id": "PaDZuHrng-BG"
      },
      "execution_count": 296,
      "outputs": []
    },
    {
      "cell_type": "markdown",
      "source": [
        "**Recomendacion por Genero Literario**"
      ],
      "metadata": {
        "id": "Vr5Nhk_-kVRa"
      }
    },
    {
      "cell_type": "code",
      "source": [
        "# Función para recomendar libros por género literario\n",
        "def recomendar_libros_por_genero(genero):\n",
        "    # Preprocesar el género literario\n",
        "    genero_procesado = preprocesar_texto(genero)\n",
        "\n",
        "    # Calcular la similitud coseno entre el género literario y todos los géneros en el DataFrame\n",
        "    tfidf_vectorizer = TfidfVectorizer()\n",
        "    genero_vector = tfidf_vectorizer.fit_transform([genero_procesado])\n",
        "    generos_vectorizados = tfidf_vectorizer.transform(df['genero'])\n",
        "    similitudes = cosine_similarity(genero_vector, generos_vectorizados)\n",
        "\n",
        "    # Obtener los índices de los géneros más similares\n",
        "    indices_generos_similares = similitudes.argsort(axis=1)[0][-2:]\n",
        "\n",
        "    # Obtener los libros asociados a los géneros más similares\n",
        "    libros_relevantes = df[df.index.isin(indices_generos_similares)].copy()\n",
        "\n",
        "    return libros_relevantes\n"
      ],
      "metadata": {
        "id": "oHdf5O7ykazR"
      },
      "execution_count": 297,
      "outputs": []
    },
    {
      "cell_type": "markdown",
      "source": [
        "**Intraccion con el usuario**"
      ],
      "metadata": {
        "id": "F6yU7WQnmFUF"
      }
    },
    {
      "cell_type": "code",
      "source": [
        "# Mostrar recomendaciones\n",
        "def mostrar_recomendaciones(recomendaciones):\n",
        "    for idx, libro in enumerate(recomendaciones.iterrows(), start=1):\n",
        "        print(f\"{idx}. Título: {libro[1]['titulo']}\")\n",
        "        print(f\"   Autor: {libro[1]['autor']}\")\n",
        "        print(f\"   Género: {libro[1]['genero']}\")\n",
        "        print(f\"   Sinopsis: {libro[1]['sinopsis']}\\n\")"
      ],
      "metadata": {
        "id": "vVeG41GORJo_"
      },
      "execution_count": 298,
      "outputs": []
    },
    {
      "cell_type": "code",
      "source": [
        "def interactuar_con_usuario(df,modelo_word2vec):\n",
        "    print(\"¡Bienvenido al recomendador de libros de Lectulandia!\")\n",
        "    print(\"¿Qué tienes ganas de leer hoy?\")\n",
        "    print(\"1. Recomendación Directa\")\n",
        "    print(\"2. Elección por Genero Literario\")\n",
        "    print(\"3. Elección por Autor\")\n",
        "    opcion = input(\"Seleccione una opción (1/2/3): \")\n",
        "\n",
        "    if opcion == \"1\":\n",
        "        entrada_usuario = input(\"Ingrese una temática o palabras clave: \")\n",
        "        recomendaciones = recomendacion_directa_word2vec(entrada_usuario,df,modelo_word2vec)\n",
        "    elif opcion == \"2\":\n",
        "        genero_usuario = input(\"Ingrese el género literario: \")\n",
        "        recomendaciones = recomendar_libros_por_genero(genero_usuario)\n",
        "    elif opcion == \"3\":\n",
        "        autor_usuario = input(\"Ingrese el autor: \")\n",
        "        recomendaciones = recomendar_libros_por_autor(autor_usuario)\n",
        "    else:\n",
        "        print(\"Opción no válida. Por favor, seleccione una opción válida (1/2/3).\")\n",
        "        return\n",
        "\n",
        "    if recomendaciones.empty:\n",
        "        print(\"Lo siento, no se encontraron recomendaciones para tu búsqueda.\")\n",
        "    else:\n",
        "        print(\"\\nAquí tienes algunas recomendaciones para ti:\\n\")\n",
        "        mostrar_recomendaciones(recomendaciones)\n",
        "\n",
        "\n",
        "\n",
        "\n"
      ],
      "metadata": {
        "id": "fLZsmZeZbAwE"
      },
      "execution_count": 299,
      "outputs": []
    },
    {
      "cell_type": "code",
      "source": [
        "\n",
        "# Ejecutar la interacción con el usuario\n",
        "interactuar_con_usuario(df, modelo_word2vec)"
      ],
      "metadata": {
        "colab": {
          "base_uri": "https://localhost:8080/"
        },
        "id": "Q-n5dGZvhlIP",
        "outputId": "6cc3135a-78df-407e-831a-f20c3fc4b7c5"
      },
      "execution_count": 300,
      "outputs": [
        {
          "output_type": "stream",
          "name": "stdout",
          "text": [
            "¡Bienvenido al recomendador de libros de Lectulandia!\n",
            "¿Qué tienes ganas de leer hoy?\n",
            "1. Recomendación Directa\n",
            "2. Elección por Genero Literario\n",
            "3. Elección por Autor\n",
            "Seleccione una opción (1/2/3): 3\n",
            "Ingrese el autor: tom anks\n",
            "\n",
            "Aquí tienes algunas recomendaciones para ti:\n",
            "\n",
            "1. Título: Tipos singulares y otros relatos\n",
            "   Autor: Tom Hanks\n",
            "   Género: cuentos\n",
            "   Sinopsis: Un amable inmigrante del este de Europa llega a Nueva York tras ver destruida su vida y su familia a causa de la guerra civil de su país. Un hombre que ama los bolos juega una partida perfecta… y luego otra, y otra, y muchas más seguidas, hasta que acaba convertido en la nueva celebridad […]\n",
            "\n",
            "2. Título: Viaje a América\n",
            "   Autor: Fernando Ballano Gonzalo\n",
            "   Género: viajes\n",
            "   Sinopsis: El trayecto transatlántico que hizo Josep Pla en agosto de 1954 a La Habana y Nueva York marcó una encrucijada y dio un resultado revelador sobre la opción narrativa que defendía bajo la boina aparente. Era su primer viaje fuera de Europa, sufragado por el intercambio publicitario entre los artículos en el semanario Destino y […]\n",
            "\n"
          ]
        }
      ]
    }
  ]
}